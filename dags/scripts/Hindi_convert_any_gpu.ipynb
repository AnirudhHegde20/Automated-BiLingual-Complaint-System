{
 "cells": [
  {
   "cell_type": "code",
   "execution_count": 1,
   "id": "84f604db-f7ac-4019-a0ac-de06a1e342c2",
   "metadata": {},
   "outputs": [],
   "source": [
    "import pandas as pd\n",
    "\n",
    "df = pd.read_csv('JPMORGAN_CHASE_COMPLAINTS_v2 (1).csv')"
   ]
  },
  {
   "cell_type": "code",
   "execution_count": 2,
   "id": "d0c5b1d0-c27a-46ea-98a4-8e3253366711",
   "metadata": {},
   "outputs": [],
   "source": [
    "df = df[25000:]"
   ]
  },
  {
   "cell_type": "code",
   "execution_count": 3,
   "id": "e45e4517-33e3-4784-ac34-830901a15684",
   "metadata": {},
   "outputs": [
    {
     "name": "stderr",
     "output_type": "stream",
     "text": [
      "/home/khatri.say/.local/lib/python3.8/site-packages/torch/cuda/__init__.py:141: UserWarning: CUDA initialization: The NVIDIA driver on your system is too old (found version 11040). Please update your GPU driver by downloading and installing a new version from the URL: http://www.nvidia.com/Download/index.aspx Alternatively, go to: https://pytorch.org to install a PyTorch version that has been compiled with your version of the CUDA driver. (Triggered internally at ../c10/cuda/CUDAFunctions.cpp:108.)\n",
      "  return torch._C._cuda_getDeviceCount() > 0\n"
     ]
    }
   ],
   "source": [
    "from transformers import AutoTokenizer, AutoModelForSeq2SeqLM\n",
    "import torch\n",
    "import pandas as pd\n",
    "from tqdm import tqdm\n",
    "\n",
    "# Loading the NLLB model and tokenizer\n",
    "model_name = \"facebook/nllb-200-distilled-600M\"\n",
    "tokenizer = AutoTokenizer.from_pretrained(model_name)\n",
    "model = AutoModelForSeq2SeqLM.from_pretrained(model_name)\n",
    "\n",
    "\n",
    "device = \"cuda\" if torch.cuda.is_available() else \"cpu\"\n",
    "model = model.to(device)\n",
    "\n",
    "# Function to translate text into simpler Hindi\n",
    "def translate_to_simple_hindi(text):\n",
    "    inputs = tokenizer(text, return_tensors=\"pt\", max_length=512, truncation=True)\n",
    "    inputs = inputs.to(device)  \n",
    "    translated_tokens = model.generate(**inputs, forced_bos_token_id=tokenizer.lang_code_to_id[\"hin_Deva\"])\n",
    "    return tokenizer.decode(translated_tokens[0], skip_special_tokens=True)\n",
    "\n",
    "\n",
    "\n",
    "tqdm.pandas()  \n",
    "\n"
   ]
  },
  {
   "cell_type": "code",
   "execution_count": null,
   "id": "11871794-8cd7-4af3-83ee-4ffff5c4f11e",
   "metadata": {},
   "outputs": [
    {
     "name": "stderr",
     "output_type": "stream",
     "text": [
      "  0%|          | 0/1000 [00:00<?, ?it/s]the `lang_code_to_id` attribute is deprecated. The logic is natively handled in the `tokenizer.adder_tokens_decoder` this attribute will be removed in `transformers` v4.38\n",
      "  4%|▍         | 40/1000 [04:08<1:51:16,  6.95s/it]"
     ]
    }
   ],
   "source": [
    "df['Desc in Hindi'] = df['Consumer complaint narrative'].progress_apply(translate_to_simple_hindi)\n"
   ]
  },
  {
   "cell_type": "code",
   "execution_count": null,
   "id": "8bb9e67f-9af7-4d9f-b974-2bb20f6d16b7",
   "metadata": {},
   "outputs": [],
   "source": [
    "df.to_csv('Dataset(25000:).csv', index = False)"
   ]
  },
  {
   "cell_type": "code",
   "execution_count": null,
   "id": "82ccae5e-14e7-4acf-bfaa-a0b874aed977",
   "metadata": {},
   "outputs": [],
   "source": []
  },
  {
   "cell_type": "code",
   "execution_count": null,
   "id": "f2b4aa8d-1b94-44bd-a527-291f54a77eec",
   "metadata": {},
   "outputs": [],
   "source": []
  }
 ],
 "metadata": {
  "kernelspec": {
   "display_name": "Python 3",
   "language": "python",
   "name": "python3"
  },
  "language_info": {
   "codemirror_mode": {
    "name": "ipython",
    "version": 3
   },
   "file_extension": ".py",
   "mimetype": "text/x-python",
   "name": "python",
   "nbconvert_exporter": "python",
   "pygments_lexer": "ipython3",
   "version": "3.8.8"
  }
 },
 "nbformat": 4,
 "nbformat_minor": 5
}
