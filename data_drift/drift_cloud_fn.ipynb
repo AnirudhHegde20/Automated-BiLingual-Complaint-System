{
 "cells": [
  {
   "cell_type": "code",
   "execution_count": 39,
   "id": "8f23f30d-0786-4551-a17e-b85130a550d2",
   "metadata": {},
   "outputs": [
    {
     "name": "stdout",
     "output_type": "stream",
     "text": [
      "Response from Cloud Function:\n",
      "{'drift_detected': True, 'max_cosine_similarity': 0.44655919075012207, 'most_similar_reference_index': 36793}\n"
     ]
    }
   ],
   "source": [
    "import requests\n",
    "\n",
    "cloud_function_url = \"https://us-east1-bilingualcomplaint-system.cloudfunctions.net/data_drift\"\n",
    "\n",
    "# Current_complain\n",
    "current_text = [\n",
    "    \"\"\"I purchased the latest model of XXX smartphone two weeks ago, \n",
    "    and it’s already having issues. \n",
    "\n",
    "    The phone randomly restarts multiple times a day, making it unusable. \n",
    "    I’ve tried restarting it, updating the software, and even resetting it to factory settings, \n",
    "    but the problem persists. \n",
    "\n",
    "    I contacted customer service, but they’ve been unhelpful and keep giving generic \n",
    "    troubleshooting steps that I’ve already tried. \n",
    "\n",
    "    This is unacceptable for such an expensive phone, and I would like a replacement \n",
    "    or a refund immediately.\"\"\"\n",
    "\n",
    "]\n",
    "\n",
    "# Send a POST request\n",
    "try:\n",
    "    response = requests.post(\n",
    "        cloud_function_url,\n",
    "        json={\"current_text\": current_text},  \n",
    "        headers={\"Content-Type\": \"application/json\"}  \n",
    "    )\n",
    "    \n",
    "    \n",
    "    if response.status_code == 200:\n",
    "        result = response.json()\n",
    "        print(\"Response from Cloud Function:\")\n",
    "        print(result)\n",
    "    else:\n",
    "        print(f\"Error {response.status_code}: {response.text}\")\n",
    "        \n",
    "except Exception as e:\n",
    "    print(f\"Failed to connect to the Cloud Function: {e}\")\n"
   ]
  },
  {
   "cell_type": "code",
   "execution_count": null,
   "id": "270a904a-49b7-4aec-8530-e6d982844f55",
   "metadata": {},
   "outputs": [],
   "source": []
  }
 ],
 "metadata": {
  "kernelspec": {
   "display_name": "Python 3 (ipykernel)",
   "language": "python",
   "name": "python3"
  },
  "language_info": {
   "codemirror_mode": {
    "name": "ipython",
    "version": 3
   },
   "file_extension": ".py",
   "mimetype": "text/x-python",
   "name": "python",
   "nbconvert_exporter": "python",
   "pygments_lexer": "ipython3",
   "version": "3.11.8"
  }
 },
 "nbformat": 4,
 "nbformat_minor": 5
}
